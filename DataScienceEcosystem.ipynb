{
 "cells": [
  {
   "cell_type": "markdown",
   "id": "d2d4d7a4-c816-4c17-8117-c781c0e22194",
   "metadata": {},
   "source": [
    "# Data Science Tools and Ecosystem"
   ]
  },
  {
   "cell_type": "markdown",
   "id": "71260a2a-b87a-48df-b065-40439c73cfb6",
   "metadata": {},
   "source": [
    "# This notebook summarizes data science tools and ecosystems."
   ]
  },
  {
   "cell_type": "markdown",
   "id": "70335b02-5cc1-4601-9da2-634e7d9f0bae",
   "metadata": {},
   "source": [
    "Some of the popular languages ​​used by data scientists are:\n",
    "- Python\n",
    "- R\n",
    "- SQL"
   ]
  },
  {
   "cell_type": "markdown",
   "id": "95afc067-9e3d-46f3-9e16-13d0b8cf6beb",
   "metadata": {},
   "source": [
    "**Objectives:**\n",
    "\n",
    "- List popular languages ​​for Data Science\n",
    "- Identify open-source tools used by data scientists\n",
    "- Create tables in Markdown cells\n",
    "- Use basic arithmetic expressions in Python\n",
    "- Share Jupyter notebooks in different formats"
   ]
  },
  {
   "cell_type": "markdown",
   "id": "1756b9e1-330c-4df4-b288-d37d58f686e6",
   "metadata": {},
   "source": [
    "Some of the libraries commonly used by data scientists include:\n",
    "- Pandas (Python)\n",
    "- Numpy (Python)\n",
    "- Matplotlib (Python)\n",
    "- Ggplot (R)"
   ]
  },
  {
   "cell_type": "markdown",
   "id": "33c552ac-41c5-468d-bf96-df97f7493244",
   "metadata": {},
   "source": [
    "| Data Science Tools                    |\n",
    "|:---------------------------------------:|\n",
    "| Jupyter Notebook                      |\n",
    "| RStudio                               |\n",
    "| VS Code                               |\n"
   ]
  },
  {
   "cell_type": "markdown",
   "id": "b8c6268c-11b1-4759-87f0-049fc6c8682c",
   "metadata": {},
   "source": [
    "### A continuación, se presentan algunos ejemplos de evaluación de expresiones aritméticas en Python.\n",
    "\n",
    "- `3 + 4` → Suma (Resultado: 7)  \n",
    "- `10 - 2` → Resta (Resultado: 8)  \n",
    "- `5 * 6` → Multiplicación (Resultado: 30)  \n",
    "- `8 / 2` → División (Resultado: 4.0)  \n",
    "- `2 ** 3` → Potencia (Resultado: 8)\n"
   ]
  },
  {
   "cell_type": "code",
   "execution_count": 1,
   "id": "cf090fbb-4b03-493b-81f0-1f7124a2c80a",
   "metadata": {},
   "outputs": [
    {
     "data": {
      "text/plain": [
       "17"
      ]
     },
     "execution_count": 1,
     "metadata": {},
     "output_type": "execute_result"
    }
   ],
   "source": [
    "# This is an arithmetic expression that multiplies and adds integers. The result should be 17.\n",
    "(3*4)+5"
   ]
  },
  {
   "cell_type": "code",
   "execution_count": 2,
   "id": "19d86f1e-f31a-465d-932e-a5d8d0d755a6",
   "metadata": {},
   "outputs": [
    {
     "data": {
      "text/plain": [
       "3.3333333333333335"
      ]
     },
     "execution_count": 2,
     "metadata": {},
     "output_type": "execute_result"
    }
   ],
   "source": [
    "# The following line of code will convert 200 minutes to its equivalent in hours. This is done by dividing 200 by 60.\n",
    "200/60"
   ]
  },
  {
   "cell_type": "markdown",
   "id": "533fbdbf-f957-4553-ba5f-02459329dcbf",
   "metadata": {},
   "source": [
    "## Author\n",
    "Vidal Jiménez Omar Vladimir"
   ]
  }
 ],
 "metadata": {
  "kernelspec": {
   "display_name": "Python 3 (ipykernel)",
   "language": "python",
   "name": "python3"
  },
  "language_info": {
   "codemirror_mode": {
    "name": "ipython",
    "version": 3
   },
   "file_extension": ".py",
   "mimetype": "text/x-python",
   "name": "python",
   "nbconvert_exporter": "python",
   "pygments_lexer": "ipython3",
   "version": "3.12.8"
  }
 },
 "nbformat": 4,
 "nbformat_minor": 5
}
